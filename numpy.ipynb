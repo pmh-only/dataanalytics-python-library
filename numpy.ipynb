{
 "cells": [
  {
   "cell_type": "markdown",
   "metadata": {},
   "source": [
    "## Numpy Learning Notebook\n",
    "created by Minhyeok Park <pmh_only@pmh.codes>"
   ]
  },
  {
   "cell_type": "code",
   "execution_count": 2,
   "metadata": {},
   "outputs": [
    {
     "name": "stdout",
     "output_type": "stream",
     "text": [
      "Requirement already satisfied: asttokens==2.4.1 in ./env/lib/python3.12/site-packages (from -r ./requirements.txt (line 1)) (2.4.1)\n",
      "Requirement already satisfied: comm==0.2.2 in ./env/lib/python3.12/site-packages (from -r ./requirements.txt (line 2)) (0.2.2)\n",
      "Requirement already satisfied: debugpy==1.8.5 in ./env/lib/python3.12/site-packages (from -r ./requirements.txt (line 3)) (1.8.5)\n",
      "Requirement already satisfied: decorator==5.1.1 in ./env/lib/python3.12/site-packages (from -r ./requirements.txt (line 4)) (5.1.1)\n",
      "Requirement already satisfied: executing==2.1.0 in ./env/lib/python3.12/site-packages (from -r ./requirements.txt (line 5)) (2.1.0)\n",
      "Requirement already satisfied: ipykernel==6.29.5 in ./env/lib/python3.12/site-packages (from -r ./requirements.txt (line 6)) (6.29.5)\n",
      "Requirement already satisfied: ipython==8.27.0 in ./env/lib/python3.12/site-packages (from -r ./requirements.txt (line 7)) (8.27.0)\n",
      "Requirement already satisfied: jedi==0.19.1 in ./env/lib/python3.12/site-packages (from -r ./requirements.txt (line 8)) (0.19.1)\n",
      "Requirement already satisfied: jupyter_client==8.6.2 in ./env/lib/python3.12/site-packages (from -r ./requirements.txt (line 9)) (8.6.2)\n",
      "Requirement already satisfied: jupyter_core==5.7.2 in ./env/lib/python3.12/site-packages (from -r ./requirements.txt (line 10)) (5.7.2)\n",
      "Requirement already satisfied: matplotlib-inline==0.1.7 in ./env/lib/python3.12/site-packages (from -r ./requirements.txt (line 11)) (0.1.7)\n",
      "Requirement already satisfied: nest-asyncio==1.6.0 in ./env/lib/python3.12/site-packages (from -r ./requirements.txt (line 12)) (1.6.0)\n",
      "Requirement already satisfied: numpy==2.1.0 in ./env/lib/python3.12/site-packages (from -r ./requirements.txt (line 13)) (2.1.0)\n",
      "Requirement already satisfied: packaging==24.1 in ./env/lib/python3.12/site-packages (from -r ./requirements.txt (line 14)) (24.1)\n",
      "Requirement already satisfied: parso==0.8.4 in ./env/lib/python3.12/site-packages (from -r ./requirements.txt (line 15)) (0.8.4)\n",
      "Requirement already satisfied: pexpect==4.9.0 in ./env/lib/python3.12/site-packages (from -r ./requirements.txt (line 16)) (4.9.0)\n",
      "Requirement already satisfied: platformdirs==4.2.2 in ./env/lib/python3.12/site-packages (from -r ./requirements.txt (line 17)) (4.2.2)\n",
      "Requirement already satisfied: prompt_toolkit==3.0.47 in ./env/lib/python3.12/site-packages (from -r ./requirements.txt (line 18)) (3.0.47)\n",
      "Requirement already satisfied: psutil==6.0.0 in ./env/lib/python3.12/site-packages (from -r ./requirements.txt (line 19)) (6.0.0)\n",
      "Requirement already satisfied: ptyprocess==0.7.0 in ./env/lib/python3.12/site-packages (from -r ./requirements.txt (line 20)) (0.7.0)\n",
      "Requirement already satisfied: pure_eval==0.2.3 in ./env/lib/python3.12/site-packages (from -r ./requirements.txt (line 21)) (0.2.3)\n",
      "Requirement already satisfied: Pygments==2.18.0 in ./env/lib/python3.12/site-packages (from -r ./requirements.txt (line 22)) (2.18.0)\n",
      "Requirement already satisfied: python-dateutil==2.9.0.post0 in ./env/lib/python3.12/site-packages (from -r ./requirements.txt (line 23)) (2.9.0.post0)\n",
      "Requirement already satisfied: pyzmq==26.2.0 in ./env/lib/python3.12/site-packages (from -r ./requirements.txt (line 24)) (26.2.0)\n",
      "Requirement already satisfied: six==1.16.0 in ./env/lib/python3.12/site-packages (from -r ./requirements.txt (line 25)) (1.16.0)\n",
      "Requirement already satisfied: stack-data==0.6.3 in ./env/lib/python3.12/site-packages (from -r ./requirements.txt (line 26)) (0.6.3)\n",
      "Requirement already satisfied: tornado==6.4.1 in ./env/lib/python3.12/site-packages (from -r ./requirements.txt (line 27)) (6.4.1)\n",
      "Requirement already satisfied: traitlets==5.14.3 in ./env/lib/python3.12/site-packages (from -r ./requirements.txt (line 28)) (5.14.3)\n",
      "Requirement already satisfied: wcwidth==0.2.13 in ./env/lib/python3.12/site-packages (from -r ./requirements.txt (line 29)) (0.2.13)\n",
      "\n",
      "\u001b[1m[\u001b[0m\u001b[34;49mnotice\u001b[0m\u001b[1;39;49m]\u001b[0m\u001b[39;49m A new release of pip is available: \u001b[0m\u001b[31;49m24.0\u001b[0m\u001b[39;49m -> \u001b[0m\u001b[32;49m24.2\u001b[0m\n",
      "\u001b[1m[\u001b[0m\u001b[34;49mnotice\u001b[0m\u001b[1;39;49m]\u001b[0m\u001b[39;49m To update, run: \u001b[0m\u001b[32;49mpip install --upgrade pip\u001b[0m\n",
      "Note: you may need to restart the kernel to use updated packages.\n"
     ]
    }
   ],
   "source": [
    "# install requirements\n",
    "%pip install -r ./requirements.txt\n",
    "\n",
    "import numpy as np"
   ]
  },
  {
   "cell_type": "code",
   "execution_count": 3,
   "metadata": {},
   "outputs": [
    {
     "data": {
      "text/plain": [
       "array([1, 2, 3, 4])"
      ]
     },
     "execution_count": 3,
     "metadata": {},
     "output_type": "execute_result"
    }
   ],
   "source": [
    "# create new numpy array\n",
    "arr = np.array([1, 2, 3, 4])\n",
    "arr"
   ]
  },
  {
   "cell_type": "code",
   "execution_count": 4,
   "metadata": {},
   "outputs": [
    {
     "data": {
      "text/plain": [
       "np.int64(1)"
      ]
     },
     "execution_count": 4,
     "metadata": {},
     "output_type": "execute_result"
    }
   ],
   "source": [
    "# retrieve element\n",
    "arr = np.array([1, 2, 3, 4])\n",
    "arr[0]"
   ]
  },
  {
   "cell_type": "code",
   "execution_count": 5,
   "metadata": {},
   "outputs": [
    {
     "name": "stdout",
     "output_type": "stream",
     "text": [
      "[2 3 4]\n",
      "[1 2 3]\n",
      "[2 3]\n",
      "[2 3]\n"
     ]
    }
   ],
   "source": [
    "# array slicing\n",
    "arr = np.array([1, 2, 3, 4])\n",
    "\n",
    "print(arr[1:])\n",
    "print(arr[:3])\n",
    "print(arr[1:3])\n",
    "print(arr[1:-1])"
   ]
  },
  {
   "cell_type": "code",
   "execution_count": 6,
   "metadata": {},
   "outputs": [
    {
     "name": "stdout",
     "output_type": "stream",
     "text": [
      "int64\n",
      "<U1\n",
      "bool\n",
      "float64\n"
     ]
    }
   ],
   "source": [
    "# array datatypes\n",
    "arr = np.array([1, 2, 3, 4])\n",
    "arr2 = np.array(['a', 'b', 'c', 'd'])\n",
    "arr3 = np.array([False, True, False, True])\n",
    "arr4 = np.array([1.2, 2.4, 3.6, 4.3])\n",
    "\n",
    "print(arr.dtype)\n",
    "print(arr2.dtype)\n",
    "print(arr3.dtype)\n",
    "print(arr4.dtype)"
   ]
  },
  {
   "cell_type": "code",
   "execution_count": 7,
   "metadata": {},
   "outputs": [
    {
     "name": "stdout",
     "output_type": "stream",
     "text": [
      "[1 2 3 4] [1 2 3 5]\n"
     ]
    }
   ],
   "source": [
    "# array copy\n",
    "arr = np.array([1, 2, 3, 4])\n",
    "arr2 = arr.copy()\n",
    "\n",
    "arr2[3] = 5\n",
    "\n",
    "print(arr, arr2)"
   ]
  },
  {
   "cell_type": "code",
   "execution_count": 8,
   "metadata": {},
   "outputs": [
    {
     "name": "stdout",
     "output_type": "stream",
     "text": [
      "[1 2 3 5] [1 2 3 5]\n"
     ]
    }
   ],
   "source": [
    "# array view\n",
    "arr = np.array([1, 2, 3, 4])\n",
    "arr2 = arr.view()\n",
    "\n",
    "arr2[3] = 5\n",
    "\n",
    "print(arr, arr2)"
   ]
  },
  {
   "cell_type": "code",
   "execution_count": 9,
   "metadata": {},
   "outputs": [
    {
     "data": {
      "text/plain": [
       "array([[ 1,  2,  3,  4],\n",
       "       [ 5,  6,  7,  8],\n",
       "       [ 9, 10, 11, 12]])"
      ]
     },
     "execution_count": 9,
     "metadata": {},
     "output_type": "execute_result"
    }
   ],
   "source": [
    "# 2d array\n",
    "arr = np.array([\n",
    "  [ 1,  2,  3,  4 ],\n",
    "  [ 5,  6,  7,  8 ],\n",
    "  [ 9, 10, 11, 12 ]\n",
    "])\n",
    "\n",
    "arr"
   ]
  },
  {
   "cell_type": "code",
   "execution_count": 10,
   "metadata": {},
   "outputs": [
    {
     "data": {
      "text/plain": [
       "(3, 4)"
      ]
     },
     "execution_count": 10,
     "metadata": {},
     "output_type": "execute_result"
    }
   ],
   "source": [
    "# array shape\n",
    "arr = np.array([\n",
    "  [ 1,  2,  3,  4 ],\n",
    "  [ 5,  6,  7,  8 ],\n",
    "  [ 9, 10, 11, 12 ]\n",
    "])\n",
    "\n",
    "arr.shape"
   ]
  },
  {
   "cell_type": "code",
   "execution_count": 11,
   "metadata": {},
   "outputs": [
    {
     "data": {
      "text/plain": [
       "(1, 1, 1, 3, 4)"
      ]
     },
     "execution_count": 11,
     "metadata": {},
     "output_type": "execute_result"
    }
   ],
   "source": [
    "# fixed array shape\n",
    "arr = np.array([\n",
    "  [ 1,  2,  3,  4 ],\n",
    "  [ 5,  6,  7,  8 ],\n",
    "  [ 9, 10, 11, 12 ]\n",
    "], ndmin=5)\n",
    "\n",
    "arr.shape"
   ]
  },
  {
   "cell_type": "code",
   "execution_count": 12,
   "metadata": {},
   "outputs": [
    {
     "data": {
      "text/plain": [
       "array([[ 1,  2,  3,  4],\n",
       "       [ 5,  6,  7,  8],\n",
       "       [ 9, 10, 11, 12]])"
      ]
     },
     "execution_count": 12,
     "metadata": {},
     "output_type": "execute_result"
    }
   ],
   "source": [
    "# reshape array\n",
    "arr = np.array([1, 2, 3, 4, 5, 6, 7, 8, 9, 10, 11, 12])\n",
    "arr = arr.reshape(3, 4)\n",
    "\n",
    "arr"
   ]
  },
  {
   "cell_type": "code",
   "execution_count": 13,
   "metadata": {},
   "outputs": [
    {
     "name": "stdout",
     "output_type": "stream",
     "text": [
      "1\n",
      "2\n",
      "3\n",
      "4\n",
      "5\n",
      "6\n",
      "7\n",
      "8\n",
      "9\n",
      "10\n",
      "11\n",
      "12\n"
     ]
    }
   ],
   "source": [
    "# iterate array\n",
    "arr = np.array([\n",
    "  [ 1,  2,  3,  4 ],\n",
    "  [ 5,  6,  7,  8 ],\n",
    "  [ 9, 10, 11, 12 ]\n",
    "])\n",
    "\n",
    "for x in arr:\n",
    "  for y in x:\n",
    "    print(y)"
   ]
  },
  {
   "cell_type": "code",
   "execution_count": 14,
   "metadata": {},
   "outputs": [
    {
     "data": {
      "text/plain": [
       "array([1, 2, 3, 1, 2, 3])"
      ]
     },
     "execution_count": 14,
     "metadata": {},
     "output_type": "execute_result"
    }
   ],
   "source": [
    "# concat array\n",
    "arr = np.array([1, 2, 3])\n",
    "arr2 = np.array([1, 2, 3])\n",
    "\n",
    "arr3 = np.concat((arr, arr2))\n",
    "arr3"
   ]
  },
  {
   "cell_type": "code",
   "execution_count": 15,
   "metadata": {},
   "outputs": [
    {
     "name": "stdout",
     "output_type": "stream",
     "text": [
      "[[ 1  2  3  4]\n",
      " [ 5  6  7  8]\n",
      " [ 9 10 11 12]\n",
      " [ 1  2  3  4]\n",
      " [ 5  6  7  8]\n",
      " [ 9 10 11 12]]\n",
      "\n",
      "[[ 1  2  3  4  1  2  3  4]\n",
      " [ 5  6  7  8  5  6  7  8]\n",
      " [ 9 10 11 12  9 10 11 12]]\n"
     ]
    }
   ],
   "source": [
    "# concat array (2d)\n",
    "arr = np.array([\n",
    "  [ 1,  2,  3,  4 ],\n",
    "  [ 5,  6,  7,  8 ],\n",
    "  [ 9, 10, 11, 12 ]\n",
    "])\n",
    "\n",
    "arr2 = np.array([\n",
    "  [ 1,  2,  3,  4 ],\n",
    "  [ 5,  6,  7,  8 ],\n",
    "  [ 9, 10, 11, 12 ]\n",
    "])\n",
    "\n",
    "print(np.concat((arr, arr2), axis=0), end=\"\\n\\n\")\n",
    "print(np.concat((arr, arr2), axis=1))"
   ]
  },
  {
   "cell_type": "code",
   "execution_count": 16,
   "metadata": {},
   "outputs": [
    {
     "name": "stdout",
     "output_type": "stream",
     "text": [
      "[[[ 1  2  3  4]\n",
      "  [ 5  6  7  8]\n",
      "  [ 9 10 11 12]]\n",
      "\n",
      " [[ 1  2  3  4]\n",
      "  [ 5  6  7  8]\n",
      "  [ 9 10 11 12]]]\n",
      "\n",
      "[[[ 1  2  3  4]\n",
      "  [ 1  2  3  4]]\n",
      "\n",
      " [[ 5  6  7  8]\n",
      "  [ 5  6  7  8]]\n",
      "\n",
      " [[ 9 10 11 12]\n",
      "  [ 9 10 11 12]]]\n"
     ]
    }
   ],
   "source": [
    "# stack array (2d)\n",
    "arr = np.array([\n",
    "  [ 1,  2,  3,  4 ],\n",
    "  [ 5,  6,  7,  8 ],\n",
    "  [ 9, 10, 11, 12 ]\n",
    "])\n",
    "\n",
    "arr2 = np.array([\n",
    "  [ 1,  2,  3,  4 ],\n",
    "  [ 5,  6,  7,  8 ],\n",
    "  [ 9, 10, 11, 12 ]\n",
    "])\n",
    "\n",
    "print(np.stack((arr, arr2), axis=0), end=\"\\n\\n\")\n",
    "print(np.stack((arr, arr2), axis=1))"
   ]
  },
  {
   "cell_type": "code",
   "execution_count": 17,
   "metadata": {},
   "outputs": [
    {
     "data": {
      "text/plain": [
       "array([[ 1,  2,  3,  4,  1,  2,  3,  4],\n",
       "       [ 5,  6,  7,  8,  5,  6,  7,  8],\n",
       "       [ 9, 10, 11, 12,  9, 10, 11, 12]])"
      ]
     },
     "execution_count": 17,
     "metadata": {},
     "output_type": "execute_result"
    }
   ],
   "source": [
    "# hstack array (2d)\n",
    "arr = np.array([\n",
    "  [ 1,  2,  3,  4 ],\n",
    "  [ 5,  6,  7,  8 ],\n",
    "  [ 9, 10, 11, 12 ]\n",
    "])\n",
    "\n",
    "arr2 = np.array([\n",
    "  [ 1,  2,  3,  4 ],\n",
    "  [ 5,  6,  7,  8 ],\n",
    "  [ 9, 10, 11, 12 ]\n",
    "])\n",
    "\n",
    "np.hstack((arr, arr2))"
   ]
  },
  {
   "cell_type": "code",
   "execution_count": 18,
   "metadata": {},
   "outputs": [
    {
     "data": {
      "text/plain": [
       "array([[ 1,  2,  3,  4],\n",
       "       [ 5,  6,  7,  8],\n",
       "       [ 9, 10, 11, 12],\n",
       "       [ 1,  2,  3,  4],\n",
       "       [ 5,  6,  7,  8],\n",
       "       [ 9, 10, 11, 12]])"
      ]
     },
     "execution_count": 18,
     "metadata": {},
     "output_type": "execute_result"
    }
   ],
   "source": [
    "# vstack array (2d)\n",
    "arr = np.array([\n",
    "  [ 1,  2,  3,  4 ],\n",
    "  [ 5,  6,  7,  8 ],\n",
    "  [ 9, 10, 11, 12 ]\n",
    "])\n",
    "\n",
    "arr2 = np.array([\n",
    "  [ 1,  2,  3,  4 ],\n",
    "  [ 5,  6,  7,  8 ],\n",
    "  [ 9, 10, 11, 12 ]\n",
    "])\n",
    "\n",
    "np.vstack((arr, arr2))"
   ]
  },
  {
   "cell_type": "code",
   "execution_count": 19,
   "metadata": {},
   "outputs": [
    {
     "data": {
      "text/plain": [
       "array([[[ 1,  1],\n",
       "        [ 2,  2],\n",
       "        [ 3,  3],\n",
       "        [ 4,  4]],\n",
       "\n",
       "       [[ 5,  5],\n",
       "        [ 6,  6],\n",
       "        [ 7,  7],\n",
       "        [ 8,  8]],\n",
       "\n",
       "       [[ 9,  9],\n",
       "        [10, 10],\n",
       "        [11, 11],\n",
       "        [12, 12]]])"
      ]
     },
     "execution_count": 19,
     "metadata": {},
     "output_type": "execute_result"
    }
   ],
   "source": [
    "# dstack array (2d)\n",
    "arr = np.array([\n",
    "  [ 1,  2,  3,  4 ],\n",
    "  [ 5,  6,  7,  8 ],\n",
    "  [ 9, 10, 11, 12 ]\n",
    "])\n",
    "\n",
    "arr2 = np.array([\n",
    "  [ 1,  2,  3,  4 ],\n",
    "  [ 5,  6,  7,  8 ],\n",
    "  [ 9, 10, 11, 12 ]\n",
    "])\n",
    "\n",
    "np.dstack((arr, arr2))"
   ]
  },
  {
   "cell_type": "code",
   "execution_count": 20,
   "metadata": {},
   "outputs": [
    {
     "name": "stdout",
     "output_type": "stream",
     "text": [
      "[array([[1, 2],\n",
      "       [3, 4]]), array([[5, 6],\n",
      "       [7, 8]]), array([[ 9, 10],\n",
      "       [11, 12]])]\n",
      "[array([[ 1],\n",
      "       [ 3],\n",
      "       [ 5],\n",
      "       [ 7],\n",
      "       [ 9],\n",
      "       [11]]), array([[ 2],\n",
      "       [ 4],\n",
      "       [ 6],\n",
      "       [ 8],\n",
      "       [10],\n",
      "       [12]]), array([], shape=(6, 0), dtype=int64)]\n"
     ]
    }
   ],
   "source": [
    "# split array (2d)\n",
    "arr = np.array([[1, 2], [3, 4], [5, 6], [7, 8], [9, 10], [11, 12]])\n",
    "\n",
    "print(np.array_split(arr, 3, axis=0))\n",
    "print(np.array_split(arr, 3, axis=1))"
   ]
  },
  {
   "cell_type": "code",
   "execution_count": 23,
   "metadata": {},
   "outputs": [
    {
     "data": {
      "text/plain": [
       "(array([1, 3, 5, 7]),)"
      ]
     },
     "execution_count": 23,
     "metadata": {},
     "output_type": "execute_result"
    }
   ],
   "source": [
    "# search array : return index of evens\n",
    "arr = np.arange(1, 10)\n",
    "arr2 = np.where(arr % 2 == 0)\n",
    "\n",
    "arr2"
   ]
  },
  {
   "cell_type": "code",
   "execution_count": 61,
   "metadata": {},
   "outputs": [
    {
     "data": {
      "text/plain": [
       "array([2, 4, 6, 8])"
      ]
     },
     "execution_count": 61,
     "metadata": {},
     "output_type": "execute_result"
    }
   ],
   "source": [
    "# filter array : return value of evens\n",
    "arr = np.arange(1, 10)\n",
    "arr2 = []\n",
    "\n",
    "for x in arr:\n",
    "  arr2.append(x % 2 == 0)\n",
    "\n",
    "arr[arr2]"
   ]
  },
  {
   "cell_type": "code",
   "execution_count": 25,
   "metadata": {},
   "outputs": [
    {
     "data": {
      "text/plain": [
       "array([1, 2, 3, 3, 4, 6, 6])"
      ]
     },
     "execution_count": 25,
     "metadata": {},
     "output_type": "execute_result"
    }
   ],
   "source": [
    "# sort array\n",
    "arr = np.array([6, 3, 1, 6, 3, 2, 4])\n",
    "arr2 = np.sort(arr)\n",
    "\n",
    "arr2"
   ]
  },
  {
   "cell_type": "code",
   "execution_count": 30,
   "metadata": {},
   "outputs": [
    {
     "data": {
      "text/plain": [
       "array([[1, 4, 6, 7],\n",
       "       [2, 3, 4, 6]])"
      ]
     },
     "execution_count": 30,
     "metadata": {},
     "output_type": "execute_result"
    }
   ],
   "source": [
    "# sort array (2d)\n",
    "arr = np.array([\n",
    "  [1, 6, 7, 4],\n",
    "  [6, 3, 2, 4]\n",
    "])\n",
    "arr2 = np.sort(arr)\n",
    "\n",
    "arr2"
   ]
  }
 ],
 "metadata": {
  "kernelspec": {
   "display_name": "env",
   "language": "python",
   "name": "python3"
  },
  "language_info": {
   "codemirror_mode": {
    "name": "ipython",
    "version": 3
   },
   "file_extension": ".py",
   "mimetype": "text/x-python",
   "name": "python",
   "nbconvert_exporter": "python",
   "pygments_lexer": "ipython3",
   "version": "3.12.4"
  }
 },
 "nbformat": 4,
 "nbformat_minor": 2
}
